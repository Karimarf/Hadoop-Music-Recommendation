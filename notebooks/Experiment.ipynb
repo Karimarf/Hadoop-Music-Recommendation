{
 "cells": [
  {
   "cell_type": "code",
   "execution_count": 1,
   "id": "727359ff-5eba-4b1d-a956-b66427f1acee",
   "metadata": {},
   "outputs": [],
   "source": [
    "from pyspark.sql import SparkSession\n",
    "from pyspark.sql.functions import col, count, countDistinct, avg, min, max, stddev, desc\n",
    "\n",
    "spark = SparkSession.builder \\\n",
    "    .appName(\"Spotify Recommandation\") \\\n",
    "    .getOrCreate()\n",
    "\n",
    "df = spark.read.option(\"header\", \"true\").option(\"inferSchema\", \"true\").csv(\"hdfs://hadoop-namenode-1:8020/data/\")"
   ]
  },
  {
   "cell_type": "code",
   "execution_count": 2,
   "id": "111e5e8d-1806-4e7e-bca3-efa13e47a265",
   "metadata": {},
   "outputs": [
    {
     "name": "stdout",
     "output_type": "stream",
     "text": [
      "root\n",
      " |-- valence: string (nullable = true)\n",
      " |-- year: integer (nullable = true)\n",
      " |-- acousticness: string (nullable = true)\n",
      " |-- artists: string (nullable = true)\n",
      " |-- danceability: string (nullable = true)\n",
      " |-- duration_ms: string (nullable = true)\n",
      " |-- energy: string (nullable = true)\n",
      " |-- explicit: string (nullable = true)\n",
      " |-- id: string (nullable = true)\n",
      " |-- instrumentalness: string (nullable = true)\n",
      " |-- key: string (nullable = true)\n",
      " |-- liveness: string (nullable = true)\n",
      " |-- loudness: string (nullable = true)\n",
      " |-- mode: string (nullable = true)\n",
      " |-- name: string (nullable = true)\n",
      " |-- popularity: string (nullable = true)\n",
      " |-- release_date: string (nullable = true)\n",
      " |-- speechiness: string (nullable = true)\n",
      " |-- tempo: string (nullable = true)\n",
      "\n"
     ]
    }
   ],
   "source": [
    "df.printSchema()\n",
    "# df.show(5, truncate=False)"
   ]
  },
  {
   "cell_type": "code",
   "execution_count": 3,
   "id": "2ec59224-371d-4a86-9eb7-01da0664f3ca",
   "metadata": {},
   "outputs": [
    {
     "name": "stdout",
     "output_type": "stream",
     "text": [
      "Nombre de lignes : 170653\n"
     ]
    }
   ],
   "source": [
    "print(\"Nombre de lignes :\", df.count())"
   ]
  },
  {
   "cell_type": "code",
   "execution_count": 4,
   "id": "b01d57e3-133d-40ad-83dd-8b3415b36615",
   "metadata": {},
   "outputs": [
    {
     "name": "stdout",
     "output_type": "stream",
     "text": [
      "Nombre de colonnes : 19\n"
     ]
    }
   ],
   "source": [
    "print(\"Nombre de colonnes :\", len(df.columns))"
   ]
  },
  {
   "cell_type": "code",
   "execution_count": 5,
   "id": "8babe29a-55dc-4657-92a9-bc0509103be2",
   "metadata": {},
   "outputs": [
    {
     "name": "stdout",
     "output_type": "stream",
     "text": [
      "+-----------------------+\n",
      "|count(DISTINCT artists)|\n",
      "+-----------------------+\n",
      "|                  34017|\n",
      "+-----------------------+\n",
      "\n"
     ]
    }
   ],
   "source": [
    "df.select(\"artists\").agg(countDistinct(\"artists\")).show()"
   ]
  },
  {
   "cell_type": "code",
   "execution_count": 6,
   "id": "e0259e2e-fde6-41b8-8d79-5189fb276ca3",
   "metadata": {},
   "outputs": [
    {
     "name": "stdout",
     "output_type": "stream",
     "text": [
      "+----+-----+\n",
      "|year|count|\n",
      "+----+-----+\n",
      "|1921|  150|\n",
      "|1922|   71|\n",
      "|1923|  185|\n",
      "|1924|  236|\n",
      "|1925|  278|\n",
      "|1926| 1378|\n",
      "|1927|  615|\n",
      "|1928| 1261|\n",
      "|1929|  952|\n",
      "|1930| 1924|\n",
      "|1931|  966|\n",
      "|1932|  502|\n",
      "|1933|  691|\n",
      "|1934|  578|\n",
      "|1935| 1518|\n",
      "|1936| 1100|\n",
      "|1937|  657|\n",
      "|1938|  613|\n",
      "|1939| 1000|\n",
      "|1940| 2000|\n",
      "+----+-----+\n",
      "only showing top 20 rows\n",
      "\n"
     ]
    }
   ],
   "source": [
    "df.groupBy(\"year\").count().orderBy(\"year\").show(20)"
   ]
  },
  {
   "cell_type": "code",
   "execution_count": 7,
   "id": "ab6b58f7-81ec-4965-bf91-530e0d47466d",
   "metadata": {},
   "outputs": [
    {
     "name": "stdout",
     "output_type": "stream",
     "text": [
      "+-------+--------------------+--------------------+--------------------+\n",
      "|summary|        danceability|              energy|             valence|\n",
      "+-------+--------------------+--------------------+--------------------+\n",
      "|  count|              170653|              170653|              170653|\n",
      "|   mean|  0.5376399623706486|   533.2726662178331|  0.5288041167238217|\n",
      "| stddev| 0.17595879531415606|  13500.997419182748|  0.2630074934143846|\n",
      "|    min| \"\"Kamehameha Sch...| \"\"Loughton High ...|                 0.0|\n",
      "|    max|               0.988|              974773|6.409999999999999...|\n",
      "+-------+--------------------+--------------------+--------------------+\n",
      "\n"
     ]
    }
   ],
   "source": [
    "df.select(\n",
    "    \"danceability\", \"energy\", \"valence\"\n",
    ").describe().show()"
   ]
  },
  {
   "cell_type": "code",
   "execution_count": 8,
   "id": "1aebf457-8814-49ea-a09b-89ae71a7b4d4",
   "metadata": {},
   "outputs": [
    {
     "name": "stdout",
     "output_type": "stream",
     "text": [
      "+-------+--------------------+-------------------+--------------------+\n",
      "|summary|               tempo|           loudness|         duration_ms|\n",
      "+-------+--------------------+-------------------+--------------------+\n",
      "|  count|              170653|             170653|              170653|\n",
      "|   mean|  118.22609112814219|-11.417017795610022|   230404.3580315134|\n",
      "| stddev|   67.00273009940202| 5.7298266024160736|  126366.51213915045|\n",
      "|    min|    'José Feliciano'|   'David Baxter']\"| \"\"'Legally Blond...|\n",
      "|    max|When Your Lover H...|                  9|               99997|\n",
      "+-------+--------------------+-------------------+--------------------+\n",
      "\n"
     ]
    }
   ],
   "source": [
    "df.select(\n",
    "    \"tempo\", \"loudness\", \"duration_ms\"\n",
    ").describe().show()"
   ]
  },
  {
   "cell_type": "code",
   "execution_count": 9,
   "id": "67e69e5a-5ff3-4093-ba62-2794596b9b5e",
   "metadata": {},
   "outputs": [
    {
     "name": "stdout",
     "output_type": "stream",
     "text": [
      "+----------+-----+\n",
      "|popularity|count|\n",
      "+----------+-----+\n",
      "|         0|27222|\n",
      "|        43| 3118|\n",
      "|        44| 3110|\n",
      "|        41| 3067|\n",
      "|        40| 3043|\n",
      "|        42| 3038|\n",
      "|        39| 2964|\n",
      "|         1| 2921|\n",
      "|        36| 2879|\n",
      "|        46| 2878|\n",
      "+----------+-----+\n",
      "only showing top 10 rows\n",
      "\n"
     ]
    }
   ],
   "source": [
    "df.select(\"popularity\").groupBy(\"popularity\").count().orderBy(desc(\"count\")).show(10)"
   ]
  },
  {
   "cell_type": "code",
   "execution_count": 10,
   "id": "ebb0bd46-e1bd-4c4f-93e0-f8fd62f00f7f",
   "metadata": {},
   "outputs": [
    {
     "name": "stdout",
     "output_type": "stream",
     "text": [
      "+----+-------------------+\n",
      "|year| popularité_moyenne|\n",
      "+----+-------------------+\n",
      "|1921| 0.6533333333333333|\n",
      "|1922|0.14084507042253522|\n",
      "|1923|  5.396739130434782|\n",
      "|1924| 0.6610169491525424|\n",
      "|1925| 2.6137184115523464|\n",
      "|1926| 1.4223512336719883|\n",
      "|1927|  0.797716150081566|\n",
      "|1928| 1.5294117647058822|\n",
      "|1929| 0.3403361344537815|\n",
      "|1930| 0.9271970878835153|\n",
      "|1931|0.17780172413793102|\n",
      "|1932|  2.151394422310757|\n",
      "|1933|  6.898697539797395|\n",
      "|1934| 1.2630662020905923|\n",
      "|1935| 1.5274798927613942|\n",
      "|1936|  5.082916058394161|\n",
      "|1937|  3.328767123287671|\n",
      "|1938|  2.096247960848287|\n",
      "|1939|               4.36|\n",
      "|1940| 0.9332664325137983|\n",
      "+----+-------------------+\n",
      "only showing top 20 rows\n",
      "\n"
     ]
    }
   ],
   "source": [
    "# Moyenne de popularité par année\n",
    "df.groupBy(\"year\").agg(avg(\"popularity\").alias(\"popularité_moyenne\")).orderBy(\"year\").show(20)"
   ]
  },
  {
   "cell_type": "code",
   "execution_count": 11,
   "id": "e0aeb0bd-502f-4345-a2f2-786502f64384",
   "metadata": {},
   "outputs": [
    {
     "name": "stdout",
     "output_type": "stream",
     "text": [
      "+-------------+----------+------------------+-------------+------------------+-----------------+------------+--------------+--------+----------------------+---------+--------------+--------------+----------+----------+----------------+------------------+-----------------+-----------+\n",
      "|valence_nulls|year_nulls|acousticness_nulls|artists_nulls|danceability_nulls|duration_ms_nulls|energy_nulls|explicit_nulls|id_nulls|instrumentalness_nulls|key_nulls|liveness_nulls|loudness_nulls|mode_nulls|name_nulls|popularity_nulls|release_date_nulls|speechiness_nulls|tempo_nulls|\n",
      "+-------------+----------+------------------+-------------+------------------+-----------------+------------+--------------+--------+----------------------+---------+--------------+--------------+----------+----------+----------------+------------------+-----------------+-----------+\n",
      "|            0|         0|                 0|            0|                 0|                0|           0|             0|       0|                     0|        0|             0|             0|         0|         0|               0|                 0|                0|          0|\n",
      "+-------------+----------+------------------+-------------+------------------+-----------------+------------+--------------+--------+----------------------+---------+--------------+--------------+----------+----------+----------------+------------------+-----------------+-----------+\n",
      "\n"
     ]
    }
   ],
   "source": [
    "from pyspark.sql.functions import sum as spark_sum\n",
    "\n",
    "df.select([spark_sum(col(c).isNull().cast(\"int\")).alias(c + \"_nulls\") for c in df.columns]).show()"
   ]
  },
  {
   "cell_type": "code",
   "execution_count": 13,
   "id": "15fc7788-7982-4f7e-9063-88b3f2930a9c",
   "metadata": {},
   "outputs": [
    {
     "name": "stdout",
     "output_type": "stream",
     "text": [
      "+-------+--------------------+--------------------+--------------------+-------------------+\n",
      "|summary|        danceability|              energy|             valence|       acousticness|\n",
      "+-------+--------------------+--------------------+--------------------+-------------------+\n",
      "|  count|              170653|              170653|              170653|             170653|\n",
      "|   mean|  0.5376399623706486|   533.2726662178331|  0.5288041167238217| 0.5021736129637326|\n",
      "| stddev| 0.17595879531415606|  13500.997419182748|  0.2630074934143846|0.37601446946218486|\n",
      "|    min| \"\"Kamehameha Sch...| \"\"Loughton High ...|                 0.0|                0.0|\n",
      "|    max|               0.988|              974773|6.409999999999999...|            9.9e-06|\n",
      "+-------+--------------------+--------------------+--------------------+-------------------+\n",
      "\n"
     ]
    }
   ],
   "source": [
    "audio_features = [\n",
    "    \"danceability\", \"energy\", \"valence\", \"acousticness\"\n",
    "]\n",
    "\n",
    "df.select(audio_features).describe().show()"
   ]
  },
  {
   "cell_type": "code",
   "execution_count": 14,
   "id": "d3561702-4336-4805-b6b9-b9a0942596e1",
   "metadata": {},
   "outputs": [
    {
     "name": "stdout",
     "output_type": "stream",
     "text": [
      "+-------+--------------------+--------------------+--------------------+--------------------+-------------------+\n",
      "|summary|    instrumentalness|            liveness|         speechiness|               tempo|           loudness|\n",
      "+-------+--------------------+--------------------+--------------------+--------------------+-------------------+\n",
      "|  count|              170653|              170653|              170653|              170653|             170653|\n",
      "|   mean|   36.52932919284932|    3.57524000900989|   5.064387185348328|  118.22609112814219|-11.417017795610022|\n",
      "| stddev|   3141.909337783477|     981.33368266444|   98.12127900967258|   67.00273009940202| 5.7298266024160736|\n",
      "|    min| 'Benjamin Schrader'| 'Jason Michael S...| 'Allman Brothers...|    'José Feliciano'|   'David Baxter']\"|\n",
      "|    max|             9.9e-06|            9.53e-06|          You Did It|When Your Lover H...|                  9|\n",
      "+-------+--------------------+--------------------+--------------------+--------------------+-------------------+\n",
      "\n"
     ]
    }
   ],
   "source": [
    "audio_features = [\n",
    "    \"instrumentalness\", \"liveness\", \"speechiness\", \"tempo\", \"loudness\"\n",
    "]\n",
    "\n",
    "df.select(audio_features).describe().show()"
   ]
  },
  {
   "cell_type": "code",
   "execution_count": null,
   "id": "373b0da9-d59f-489b-bc87-2ae36b80bd82",
   "metadata": {},
   "outputs": [],
   "source": []
  }
 ],
 "metadata": {
  "kernelspec": {
   "display_name": "Python 3 (ipykernel)",
   "language": "python",
   "name": "python3"
  },
  "language_info": {
   "codemirror_mode": {
    "name": "ipython",
    "version": 3
   },
   "file_extension": ".py",
   "mimetype": "text/x-python",
   "name": "python",
   "nbconvert_exporter": "python",
   "pygments_lexer": "ipython3",
   "version": "3.11.6"
  }
 },
 "nbformat": 4,
 "nbformat_minor": 5
}
